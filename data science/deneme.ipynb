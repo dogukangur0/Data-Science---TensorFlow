{
 "cells": [
  {
   "cell_type": "code",
   "execution_count": 15,
   "metadata": {},
   "outputs": [],
   "source": [
    "import pandas as pd\n",
    "import sqlite3"
   ]
  },
  {
   "cell_type": "code",
   "execution_count": 16,
   "metadata": {},
   "outputs": [],
   "source": [
    "con = sqlite3.connect('kitaphane.db')"
   ]
  },
  {
   "cell_type": "code",
   "execution_count": 18,
   "metadata": {},
   "outputs": [],
   "source": [
    "query = \"SELECT * FROM books\"  # Örneğin, 'books' tablosundan tüm verileri seçin\n",
    "dataFrame = pd.read_sql(query, con)"
   ]
  },
  {
   "cell_type": "code",
   "execution_count": null,
   "metadata": {},
   "outputs": [
    {
     "data": {
      "text/html": [
       "<div>\n",
       "<style scoped>\n",
       "    .dataframe tbody tr th:only-of-type {\n",
       "        vertical-align: middle;\n",
       "    }\n",
       "\n",
       "    .dataframe tbody tr th {\n",
       "        vertical-align: top;\n",
       "    }\n",
       "\n",
       "    .dataframe thead th {\n",
       "        text-align: right;\n",
       "    }\n",
       "</style>\n",
       "<table border=\"1\" class=\"dataframe\">\n",
       "  <thead>\n",
       "    <tr style=\"text-align: right;\">\n",
       "      <th></th>\n",
       "      <th>id</th>\n",
       "      <th>book_size</th>\n",
       "      <th>who_added</th>\n",
       "      <th>book_uid</th>\n",
       "      <th>book_name</th>\n",
       "      <th>book_author</th>\n",
       "      <th>book_page_number</th>\n",
       "      <th>book_year</th>\n",
       "      <th>book_summary</th>\n",
       "      <th>book_price</th>\n",
       "      <th>book_category_id</th>\n",
       "      <th>book_views_count</th>\n",
       "      <th>book_is_favorite</th>\n",
       "    </tr>\n",
       "  </thead>\n",
       "  <tbody>\n",
       "    <tr>\n",
       "      <th>0</th>\n",
       "      <td>1</td>\n",
       "      <td>1</td>\n",
       "      <td>admin</td>\n",
       "      <td>6yliN2znG5ZWCUjS96YG4GPJ1Oo1</td>\n",
       "      <td>admin</td>\n",
       "      <td>admin</td>\n",
       "      <td>123</td>\n",
       "      <td>1234</td>\n",
       "      <td>ozet admin</td>\n",
       "      <td>100</td>\n",
       "      <td>1716031775945</td>\n",
       "      <td>0</td>\n",
       "      <td>1</td>\n",
       "    </tr>\n",
       "  </tbody>\n",
       "</table>\n",
       "</div>"
      ],
      "text/plain": [
       "   id  book_size who_added                      book_uid book_name  \\\n",
       "0   1          1     admin  6yliN2znG5ZWCUjS96YG4GPJ1Oo1     admin   \n",
       "\n",
       "  book_author book_page_number book_year book_summary book_price  \\\n",
       "0       admin              123      1234   ozet admin        100   \n",
       "\n",
       "  book_category_id  book_views_count  book_is_favorite  \n",
       "0    1716031775945                 0                 1  "
      ]
     },
     "execution_count": 9,
     "metadata": {},
     "output_type": "execute_result"
    }
   ],
   "source": [
    "dataFrame"
   ]
  },
  {
   "cell_type": "code",
   "execution_count": null,
   "metadata": {},
   "outputs": [],
   "source": []
  }
 ],
 "metadata": {
  "kernelspec": {
   "display_name": "Python 3",
   "language": "python",
   "name": "python3"
  },
  "language_info": {
   "codemirror_mode": {
    "name": "ipython",
    "version": 3
   },
   "file_extension": ".py",
   "mimetype": "text/x-python",
   "name": "python",
   "nbconvert_exporter": "python",
   "pygments_lexer": "ipython3",
   "version": "3.11.2"
  }
 },
 "nbformat": 4,
 "nbformat_minor": 2
}
